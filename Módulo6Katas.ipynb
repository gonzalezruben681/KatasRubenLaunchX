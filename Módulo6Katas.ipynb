{
 "cells": [
  {
   "cell_type": "markdown",
   "metadata": {},
   "source": [
    "# Ejercicio1: Crear y usar listas de Python\n",
    "Comenzarás un proyecto sobre información planetaria creando una lista de planetas."
   ]
  },
  {
   "cell_type": "code",
   "execution_count": 5,
   "metadata": {},
   "outputs": [
    {
     "name": "stdout",
     "output_type": "stream",
     "text": [
      "hay 8 planetas\n",
      "El ultimo planeta es:  Pluto\n"
     ]
    }
   ],
   "source": [
    "# Creamos la lista planets y la mostramos\n",
    "planets = ['Mercury','Venus','Earth','Mars','Jupiter','Saturn','Uranus','Neptune']\n",
    "print(f'hay {len(planets)} planetas')\n",
    "\n",
    "# Agregamos a plutón y mostramos el último elemento\n",
    "planets.append('Pluto')\n",
    "print('El ultimo planeta es: ',planets[-1])\n"
   ]
  },
  {
   "cell_type": "markdown",
   "metadata": {},
   "source": [
    "## Ejercicio 2: Trabajando con datos de una lista\n",
    "\n",
    "### Usar slices para recuperar partes de una lista"
   ]
  },
  {
   "cell_type": "code",
   "execution_count": 7,
   "metadata": {},
   "outputs": [
    {
     "name": "stdout",
     "output_type": "stream",
     "text": [
      "['Mercury', 'Venus']\n",
      "['Mars', 'Jupiter', 'Saturn', 'Neptune']\n"
     ]
    }
   ],
   "source": [
    "# Lista de planetas\n",
    "planets = ['Mercury', 'Venus', 'Earth', 'Mars', 'Jupiter', 'Saturn', 'Neptune']\n",
    "\n",
    "# Solicitamos el nombre de un planeta *Pista:  input()*\n",
    "planet = input('Ingresa el nombre de un planeta(la primera letra es en mayuscula): ')\n",
    "\n",
    "#Busca el planeta en la lista\n",
    "planet_index = planets.index(planet)\n",
    "\n",
    "# Muestra los planetas más cercanos al sol\n",
    "print('Los planetas más cerca que', planet)\n",
    "print(planets[0:planet_index])\n",
    "\n",
    "# Muestra los planetas más lejanos al sol\n",
    "print('Los planetas más lejanos que', planet)\n",
    "print(planets[planet_index +1:])"
   ]
  }
 ],
 "metadata": {
  "interpreter": {
   "hash": "aaa2d32309aa7ce0f397d0e81903e050bd163767a22d0d109bd73d79b6cf4dfe"
  },
  "kernelspec": {
   "display_name": "Python 3.10.2 64-bit",
   "language": "python",
   "name": "python3"
  },
  "language_info": {
   "codemirror_mode": {
    "name": "ipython",
    "version": 3
   },
   "file_extension": ".py",
   "mimetype": "text/x-python",
   "name": "python",
   "nbconvert_exporter": "python",
   "pygments_lexer": "ipython3",
   "version": "3.10.2"
  },
  "orig_nbformat": 4
 },
 "nbformat": 4,
 "nbformat_minor": 2
}
