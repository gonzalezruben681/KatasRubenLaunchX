{
 "cells": [
  {
   "cell_type": "markdown",
   "metadata": {},
   "source": [
    "# Ejercicio 1: Transformar cadenas"
   ]
  },
  {
   "cell_type": "code",
   "execution_count": null,
   "metadata": {},
   "outputs": [],
   "source": [
    "texto = \"\"\"Interesting facts about the Moon. The Moon is Earth's only satellite. There are several interesting facts about the Moon and how it affects life here on Earth.\",\n",
    "        \"On average, the Moon moves 4cm away from the Earth every year. This yearly drift is not significant enough to cause immediate effects on Earth. The highest daylight temperature of the Moon is 127 C.\"\"\"\n",
    "\n",
    "#divide el texto\n",
    "texto_dividido = texto.split('.')\n",
    "#print(texto_dividido)\n",
    "\n",
    "#palabras clave para la busqueda \n",
    "palabras_clave = ['average','temperature','distance']\n",
    "\n",
    "#Crear un bucle para imprimir solo datos sobre la Luna que estén relacionados con las palabras clave definidas anteriormente:\n",
    "for datos in texto_dividido:\n",
    "    for palabra_clave in palabras_clave:\n",
    "        if palabra_clave in datos:\n",
    "            print(f\"Datos sobre la Luna: {datos}\")\n",
    "print('-------------------')\n",
    "            \n",
    "# Ciclo para cambiar C a Celsius\n",
    "for datos in texto_dividido:\n",
    "    for palabra_clave in palabras_clave:\n",
    "        if palabra_clave in datos:\n",
    "            print(f\"Datos sobre la Luna: {datos.replace('C', 'Celsius')}\")\n",
    "      "
   ]
  },
  {
   "cell_type": "markdown",
   "metadata": {},
   "source": [
    "# Ejercicio 2: Formateando Cadenas"
   ]
  },
  {
   "cell_type": "code",
   "execution_count": 55,
   "metadata": {},
   "outputs": [
    {
     "name": "stdout",
     "output_type": "stream",
     "text": [
      " La Gravedad En La Tierra Y La Moon\n",
      "\n",
      "planeta = Earth\n",
      "nombre = Moon\n",
      "gravedad = 1.6199999999999999\n",
      "\n",
      "\n",
      " \n",
      "\n",
      "Datos de Gravedad sobre Moon\n",
      "-------------------------------------------------------------------------------\n",
      "Nombre del planeta: Earth\n",
      "Gravedad en Moon: 0.16199999999999998 m/s2\n",
      "\n"
     ]
    }
   ],
   "source": [
    "# Datos con los que vas a trabajar\n",
    "name = \"Moon\"\n",
    "gravity = 0.00162 # in kms\n",
    "planet = \"Earth\"\n",
    "\n",
    "# Creamos el título\n",
    "title = f\" La gravedad en la Tierra y la {name}\".title()\n",
    "\n",
    "# Creamos la plantilla\n",
    "template = f\"\"\"\n",
    "planeta = {planet}\n",
    "nombre = {name}\n",
    "gravedad = {gravity * 1000}\n",
    "\n",
    "\"\"\"\n",
    "# Unión de ambas cadenas\n",
    "facts = f\"\"\"{title}\n",
    "{template}\n",
    " \"\"\"\n",
    "\n",
    "# Comprueba la plantilla\n",
    "print(facts)\n",
    "\n",
    "# Nueva plantilla\n",
    "new_template = \"\"\"\n",
    "Datos de Gravedad sobre {nombre}\n",
    "-------------------------------------------------------------------------------\n",
    "Nombre del planeta: {planeta}\n",
    "Gravedad en {nombre}: {gravedad} m/s2\n",
    "\"\"\"\n",
    "\n",
    "# Pista: print(nueva_plantilla.format(variables))\n",
    "print(new_template.format(nombre=name, planeta=planet, gravedad= gravity * 100))"
   ]
  }
 ],
 "metadata": {
  "interpreter": {
   "hash": "aaa2d32309aa7ce0f397d0e81903e050bd163767a22d0d109bd73d79b6cf4dfe"
  },
  "kernelspec": {
   "display_name": "Python 3.10.2 64-bit",
   "language": "python",
   "name": "python3"
  },
  "language_info": {
   "codemirror_mode": {
    "name": "ipython",
    "version": 3
   },
   "file_extension": ".py",
   "mimetype": "text/x-python",
   "name": "python",
   "nbconvert_exporter": "python",
   "pygments_lexer": "ipython3",
   "version": "3.10.2"
  },
  "orig_nbformat": 4
 },
 "nbformat": 4,
 "nbformat_minor": 2
}
