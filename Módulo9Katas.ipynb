{
 "cells": [
  {
   "cell_type": "markdown",
   "metadata": {},
   "source": [
    "# Ejercicio: Uso de funciones en Python"
   ]
  },
  {
   "cell_type": "markdown",
   "metadata": {},
   "source": [
    "### Ejercicio 1: Trabajar con argumentos en funciones"
   ]
  },
  {
   "cell_type": "code",
   "execution_count": 16,
   "metadata": {},
   "outputs": [
    {
     "name": "stdout",
     "output_type": "stream",
     "text": [
      "\n",
      "   Reporte de combustible:\n",
      "    Datos tanque1: 3 %\n",
      "    Datos tanque2: 5 %\n",
      "    Datos tanque3: 10 %\n",
      "   promedio total: 6.0 %\n",
      "              \n"
     ]
    }
   ],
   "source": [
    "# Función para leer 3 tanques de combustible y muestre el promedio\n",
    "def reporte(tanque1, tanque2,tanque3):\n",
    "  \n",
    "   return f\"\"\"\n",
    "   Reporte de combustible:\n",
    "    Datos tanque1: {tanque1} %\n",
    "    Datos tanque2: {tanque2} %\n",
    "    Datos tanque3: {tanque3} %\n",
    "   promedio total: {promedio(tanque1,tanque2,tanque3)} %\n",
    "              \"\"\"\n",
    "\n",
    "# Actualiza la función\n",
    "def promedio(tanque1,tanque2,tanque3):\n",
    "     total_average = (tanque1+tanque2+tanque3)/3\n",
    "     return total_average \n",
    "\n",
    "# Llamamos a la función que genera el reporte print(funcion(tanque1, tanque2, tanque3))\n",
    "print(reporte(3, 5, 10))"
   ]
  },
  {
   "cell_type": "markdown",
   "metadata": {},
   "source": [
    "## Ejercicio 2: Trabajo con argumentos de palabra clave\n"
   ]
  },
  {
   "cell_type": "markdown",
   "metadata": {},
   "source": [
    "### Ejercicio : Trabajar con argumentos de palabras clave en funciones"
   ]
  },
  {
   "cell_type": "code",
   "execution_count": 17,
   "metadata": {},
   "outputs": [
    {
     "name": "stdout",
     "output_type": "stream",
     "text": [
      "\n",
      "    Misión a Mars\n",
      "    Total tiempo de vuelo: 65 minutos\n",
      "    Total de combutible izquierdo: 360000 galones\n",
      "    \n"
     ]
    }
   ],
   "source": [
    "# Función con un informe preciso de la misión. Considera hora de prelanzamiento, tiempo de vuelo, destino, tanque externo y tanque interno\n",
    "def reporte(hora_pre_lanzamiento,tiempo_de_vuelo,destino, tanque_ext, tanque_int):\n",
    "    return f\"\"\"\n",
    "    Misión a {destino}\n",
    "    Total tiempo de vuelo: {hora_pre_lanzamiento + tiempo_de_vuelo} minutos\n",
    "    Total de combutible izquierdo: {tanque_ext + tanque_int} galones\n",
    "    \"\"\"\n",
    "\n",
    "print(reporte(14, 51, \"Mars\", 150000, 210000))\n",
    "\n"
   ]
  },
  {
   "cell_type": "code",
   "execution_count": 43,
   "metadata": {},
   "outputs": [
    {
     "name": "stdout",
     "output_type": "stream",
     "text": [
      "\n",
      "    Misión a Mars\n",
      "    Total tiempo de vuelo: 75 minutos\n",
      "    Total de combutible izquierdo: 360000 galones\n",
      "    tanque interior, combustible izquierdo tiene 150000 galones\n",
      "tanque exterior, combustible izquierdo tiene 210000 galones\n",
      "\n"
     ]
    }
   ],
   "source": [
    "# Escribe tu nueva función de reporte considerando lo anterior\n",
    "\n",
    "def reporte(destination, *minutes, **fuel_reservoirs):\n",
    "    mission = f\"\"\"\n",
    "    Misión a {destination}\n",
    "    Total tiempo de vuelo: {sum(minutes)} minutos\n",
    "    Total de combutible izquierdo: {sum(fuel_reservoirs.values())} galones\n",
    "    \"\"\"\n",
    "    for key_name, value in fuel_reservoirs.items():\n",
    "        mission += f'tanque {key_name}, combustible izquierdo tiene {value} galones\\n' \n",
    "    return mission\n",
    "\n",
    "\n",
    "\n",
    "print(reporte(\"Mars\", 14, 10, 51, interior=150000, exterior=210000))\n"
   ]
  }
 ],
 "metadata": {
  "interpreter": {
   "hash": "aaa2d32309aa7ce0f397d0e81903e050bd163767a22d0d109bd73d79b6cf4dfe"
  },
  "kernelspec": {
   "display_name": "Python 3.10.2 64-bit",
   "language": "python",
   "name": "python3"
  },
  "language_info": {
   "codemirror_mode": {
    "name": "ipython",
    "version": 3
   },
   "file_extension": ".py",
   "mimetype": "text/x-python",
   "name": "python",
   "nbconvert_exporter": "python",
   "pygments_lexer": "ipython3",
   "version": "3.10.2"
  },
  "orig_nbformat": 4
 },
 "nbformat": 4,
 "nbformat_minor": 2
}
